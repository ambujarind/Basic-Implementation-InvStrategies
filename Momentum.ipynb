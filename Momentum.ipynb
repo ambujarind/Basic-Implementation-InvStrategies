{
 "cells": [
  {
   "cell_type": "code",
   "execution_count": 1,
   "metadata": {},
   "outputs": [],
   "source": [
    "import yfinance as yf\n",
    "import pandas as pd\n",
    "import datetime\n",
    "import time\n",
    "import requests\n",
    "import io\n",
    "import requests\n",
    "from bs4 import BeautifulSoup\n",
    "import numpy as np\n",
    "import matplotlib.pyplot as plt\n",
    "%matplotlib inline\n",
    "import seaborn as sns"
   ]
  },
  {
   "cell_type": "code",
   "execution_count": 3,
   "metadata": {},
   "outputs": [],
   "source": [
    "nifty_stocks = pd.read_csv(\"ind_nifty50list.csv\")\n",
    "tickers = nifty_stocks['Symbol'].tolist()\n",
    "tickers = [s + '.NS' for s in tickers]"
   ]
  },
  {
   "cell_type": "code",
   "execution_count": 77,
   "metadata": {},
   "outputs": [
    {
     "name": "stdout",
     "output_type": "stream",
     "text": [
      "[*********************100%***********************]  50 of 50 completed\n"
     ]
    }
   ],
   "source": [
    "stock_data = yf.download(tickers,'2014-12-1')"
   ]
  },
  {
   "cell_type": "code",
   "execution_count": 79,
   "metadata": {},
   "outputs": [
    {
     "name": "stdout",
     "output_type": "stream",
     "text": [
      "[*********************100%***********************]  1 of 1 completed\n"
     ]
    }
   ],
   "source": [
    "index_data = yf.download('^NSEI','2014-12-1')"
   ]
  },
  {
   "cell_type": "code",
   "execution_count": 80,
   "metadata": {},
   "outputs": [],
   "source": [
    "stock_close = stock_data['Adj Close']"
   ]
  },
  {
   "cell_type": "code",
   "execution_count": 81,
   "metadata": {},
   "outputs": [
    {
     "data": {
      "text/plain": [
       "ADANIPORTS.NS      0\n",
       "ASIANPAINT.NS      0\n",
       "AXISBANK.NS        0\n",
       "BAJAJ-AUTO.NS      0\n",
       "BAJAJFINSV.NS      0\n",
       "BAJFINANCE.NS      0\n",
       "BHARTIARTL.NS      1\n",
       "BPCL.NS            0\n",
       "BRITANNIA.NS       0\n",
       "CIPLA.NS           0\n",
       "COALINDIA.NS       0\n",
       "DIVISLAB.NS        0\n",
       "DRREDDY.NS         0\n",
       "EICHERMOT.NS       0\n",
       "GRASIM.NS          0\n",
       "HCLTECH.NS         0\n",
       "HDFC.NS            0\n",
       "HDFCBANK.NS        0\n",
       "HDFCLIFE.NS      732\n",
       "HEROMOTOCO.NS      0\n",
       "HINDALCO.NS        0\n",
       "HINDUNILVR.NS      0\n",
       "ICICIBANK.NS       0\n",
       "INDUSINDBK.NS      0\n",
       "INFY.NS            0\n",
       "IOC.NS             0\n",
       "ITC.NS             0\n",
       "JSWSTEEL.NS        0\n",
       "KOTAKBANK.NS       0\n",
       "LT.NS              0\n",
       "M&M.NS             0\n",
       "MARUTI.NS          0\n",
       "NESTLEIND.NS       0\n",
       "NTPC.NS            0\n",
       "ONGC.NS            0\n",
       "POWERGRID.NS       0\n",
       "RELIANCE.NS        0\n",
       "SBILIFE.NS       700\n",
       "SBIN.NS            0\n",
       "SHREECEM.NS        0\n",
       "SUNPHARMA.NS       0\n",
       "TATACONSUM.NS      0\n",
       "TATAMOTORS.NS      0\n",
       "TATASTEEL.NS       0\n",
       "TCS.NS             0\n",
       "TECHM.NS           0\n",
       "TITAN.NS           0\n",
       "ULTRACEMCO.NS      0\n",
       "UPL.NS             0\n",
       "WIPRO.NS           0\n",
       "dtype: int64"
      ]
     },
     "execution_count": 81,
     "metadata": {},
     "output_type": "execute_result"
    }
   ],
   "source": [
    "stock_close.isna().sum()"
   ]
  },
  {
   "cell_type": "code",
   "execution_count": 82,
   "metadata": {},
   "outputs": [
    {
     "name": "stderr",
     "output_type": "stream",
     "text": [
      "/opt/anaconda3/lib/python3.7/site-packages/pandas/core/frame.py:3997: SettingWithCopyWarning: \n",
      "A value is trying to be set on a copy of a slice from a DataFrame\n",
      "\n",
      "See the caveats in the documentation: https://pandas.pydata.org/pandas-docs/stable/user_guide/indexing.html#returning-a-view-versus-a-copy\n",
      "  errors=errors,\n"
     ]
    }
   ],
   "source": [
    "stock_close.drop(['SBILIFE.NS','HDFCLIFE.NS'], axis = 1, inplace = True)"
   ]
  },
  {
   "cell_type": "code",
   "execution_count": 83,
   "metadata": {},
   "outputs": [
    {
     "name": "stderr",
     "output_type": "stream",
     "text": [
      "/opt/anaconda3/lib/python3.7/site-packages/pandas/core/frame.py:4153: SettingWithCopyWarning: \n",
      "A value is trying to be set on a copy of a slice from a DataFrame\n",
      "\n",
      "See the caveats in the documentation: https://pandas.pydata.org/pandas-docs/stable/user_guide/indexing.html#returning-a-view-versus-a-copy\n",
      "  downcast=downcast,\n"
     ]
    }
   ],
   "source": [
    "stock_close.fillna(method = 'ffill', inplace = True)"
   ]
  },
  {
   "cell_type": "code",
   "execution_count": 84,
   "metadata": {},
   "outputs": [],
   "source": [
    "stock_close.index = pd.to_datetime(stock_close.index)"
   ]
  },
  {
   "cell_type": "code",
   "execution_count": 101,
   "metadata": {},
   "outputs": [],
   "source": [
    "monthly_stock_close = stock_close.resample('M').last()"
   ]
  },
  {
   "cell_type": "code",
   "execution_count": 102,
   "metadata": {},
   "outputs": [],
   "source": [
    "yearly_returns = monthly_stock_close.pct_change(periods = 12)"
   ]
  },
  {
   "cell_type": "code",
   "execution_count": 103,
   "metadata": {},
   "outputs": [],
   "source": [
    "yearly_returns = yearly_returns.iloc[12:]"
   ]
  },
  {
   "cell_type": "code",
   "execution_count": 104,
   "metadata": {},
   "outputs": [],
   "source": [
    "def get_top_n(prev_returns, top_n):\n",
    "\n",
    "    l=[]\n",
    "    for index, row in prev_returns.iterrows():\n",
    "        \n",
    "        k=[]\n",
    "        largest = row.nlargest(top_n).values\n",
    "        \n",
    "        for i in row:\n",
    "            if i in largest:\n",
    "                k.append(1)\n",
    "            else:\n",
    "                k.append(0)\n",
    "\n",
    "        l.append(k)\n",
    "    \n",
    "    return pd.DataFrame(l,prev_returns.index, prev_returns.columns)"
   ]
  },
  {
   "cell_type": "code",
   "execution_count": 105,
   "metadata": {},
   "outputs": [],
   "source": [
    "top5 = get_top_n(yearly_returns, 5)"
   ]
  },
  {
   "cell_type": "code",
   "execution_count": 106,
   "metadata": {},
   "outputs": [],
   "source": [
    "def get_bot_n(prev_returns, bot_n):\n",
    "\n",
    "    l=[]\n",
    "    for index, row in prev_returns.iterrows():\n",
    "        \n",
    "        k=[]\n",
    "        smallest = row.nsmallest(bot_n).values\n",
    "        \n",
    "        for i in row:\n",
    "            if i in smallest:\n",
    "                k.append(1)\n",
    "            else:\n",
    "                k.append(0)\n",
    "\n",
    "        l.append(k)\n",
    "    \n",
    "    return pd.DataFrame(l,prev_returns.index, prev_returns.columns)"
   ]
  },
  {
   "cell_type": "code",
   "execution_count": 107,
   "metadata": {},
   "outputs": [],
   "source": [
    "bot5 = get_bot_n(yearly_returns, 5)"
   ]
  },
  {
   "cell_type": "code",
   "execution_count": 108,
   "metadata": {},
   "outputs": [],
   "source": [
    "monthly_returns = monthly_stock_close.pct_change()\n",
    "monthly_returns = monthly_returns.iloc[1:]"
   ]
  },
  {
   "cell_type": "code",
   "execution_count": 112,
   "metadata": {},
   "outputs": [],
   "source": [
    "look_ahead_returns = monthly_returns[12:]"
   ]
  },
  {
   "cell_type": "code",
   "execution_count": 121,
   "metadata": {},
   "outputs": [],
   "source": [
    "top5_pr = top5.shift(1)\n",
    "top5_pr = top5_pr[1:]"
   ]
  },
  {
   "cell_type": "code",
   "execution_count": 122,
   "metadata": {},
   "outputs": [],
   "source": [
    "bot5_pr = bot5.shift(1)\n",
    "bot5_pr = bot5_pr[1:]"
   ]
  },
  {
   "cell_type": "code",
   "execution_count": 123,
   "metadata": {},
   "outputs": [],
   "source": [
    "portfolio_return = (top5_pr - bot5_pr)*look_ahead_returns/10"
   ]
  },
  {
   "cell_type": "code",
   "execution_count": 125,
   "metadata": {},
   "outputs": [
    {
     "data": {
      "text/html": [
       "<div>\n",
       "<style scoped>\n",
       "    .dataframe tbody tr th:only-of-type {\n",
       "        vertical-align: middle;\n",
       "    }\n",
       "\n",
       "    .dataframe tbody tr th {\n",
       "        vertical-align: top;\n",
       "    }\n",
       "\n",
       "    .dataframe thead th {\n",
       "        text-align: right;\n",
       "    }\n",
       "</style>\n",
       "<table border=\"1\" class=\"dataframe\">\n",
       "  <thead>\n",
       "    <tr style=\"text-align: right;\">\n",
       "      <th></th>\n",
       "      <th>ADANIPORTS.NS</th>\n",
       "      <th>ASIANPAINT.NS</th>\n",
       "      <th>AXISBANK.NS</th>\n",
       "      <th>BAJAJ-AUTO.NS</th>\n",
       "      <th>BAJAJFINSV.NS</th>\n",
       "      <th>BAJFINANCE.NS</th>\n",
       "      <th>BHARTIARTL.NS</th>\n",
       "      <th>BPCL.NS</th>\n",
       "      <th>BRITANNIA.NS</th>\n",
       "      <th>CIPLA.NS</th>\n",
       "      <th>...</th>\n",
       "      <th>SUNPHARMA.NS</th>\n",
       "      <th>TATACONSUM.NS</th>\n",
       "      <th>TATAMOTORS.NS</th>\n",
       "      <th>TATASTEEL.NS</th>\n",
       "      <th>TCS.NS</th>\n",
       "      <th>TECHM.NS</th>\n",
       "      <th>TITAN.NS</th>\n",
       "      <th>ULTRACEMCO.NS</th>\n",
       "      <th>UPL.NS</th>\n",
       "      <th>WIPRO.NS</th>\n",
       "    </tr>\n",
       "    <tr>\n",
       "      <th>Date</th>\n",
       "      <th></th>\n",
       "      <th></th>\n",
       "      <th></th>\n",
       "      <th></th>\n",
       "      <th></th>\n",
       "      <th></th>\n",
       "      <th></th>\n",
       "      <th></th>\n",
       "      <th></th>\n",
       "      <th></th>\n",
       "      <th></th>\n",
       "      <th></th>\n",
       "      <th></th>\n",
       "      <th></th>\n",
       "      <th></th>\n",
       "      <th></th>\n",
       "      <th></th>\n",
       "      <th></th>\n",
       "      <th></th>\n",
       "      <th></th>\n",
       "      <th></th>\n",
       "    </tr>\n",
       "  </thead>\n",
       "  <tbody>\n",
       "    <tr>\n",
       "      <th>2021-02-28</th>\n",
       "      <td>0.000000</td>\n",
       "      <td>-0.0</td>\n",
       "      <td>0.000000</td>\n",
       "      <td>-0.0</td>\n",
       "      <td>0.0</td>\n",
       "      <td>0.000000</td>\n",
       "      <td>0.000000</td>\n",
       "      <td>0.0</td>\n",
       "      <td>-0.000000</td>\n",
       "      <td>-0.004704</td>\n",
       "      <td>...</td>\n",
       "      <td>0.0</td>\n",
       "      <td>0.0</td>\n",
       "      <td>0.000000</td>\n",
       "      <td>0.000000</td>\n",
       "      <td>-0.0</td>\n",
       "      <td>-0.0</td>\n",
       "      <td>-0.0</td>\n",
       "      <td>0.0</td>\n",
       "      <td>0.0</td>\n",
       "      <td>-0.001819</td>\n",
       "    </tr>\n",
       "    <tr>\n",
       "      <th>2021-03-31</th>\n",
       "      <td>0.003921</td>\n",
       "      <td>0.0</td>\n",
       "      <td>0.003773</td>\n",
       "      <td>-0.0</td>\n",
       "      <td>0.0</td>\n",
       "      <td>-0.000000</td>\n",
       "      <td>-0.000000</td>\n",
       "      <td>-0.0</td>\n",
       "      <td>0.000000</td>\n",
       "      <td>0.003564</td>\n",
       "      <td>...</td>\n",
       "      <td>0.0</td>\n",
       "      <td>0.0</td>\n",
       "      <td>-0.006549</td>\n",
       "      <td>0.013522</td>\n",
       "      <td>0.0</td>\n",
       "      <td>0.0</td>\n",
       "      <td>0.0</td>\n",
       "      <td>0.0</td>\n",
       "      <td>0.0</td>\n",
       "      <td>0.000000</td>\n",
       "    </tr>\n",
       "    <tr>\n",
       "      <th>2021-04-30</th>\n",
       "      <td>0.000000</td>\n",
       "      <td>-0.0</td>\n",
       "      <td>0.000000</td>\n",
       "      <td>0.0</td>\n",
       "      <td>0.0</td>\n",
       "      <td>0.000000</td>\n",
       "      <td>-0.003760</td>\n",
       "      <td>-0.0</td>\n",
       "      <td>-0.000000</td>\n",
       "      <td>0.000000</td>\n",
       "      <td>...</td>\n",
       "      <td>0.0</td>\n",
       "      <td>0.0</td>\n",
       "      <td>-0.002634</td>\n",
       "      <td>0.027363</td>\n",
       "      <td>-0.0</td>\n",
       "      <td>-0.0</td>\n",
       "      <td>-0.0</td>\n",
       "      <td>-0.0</td>\n",
       "      <td>-0.0</td>\n",
       "      <td>0.000000</td>\n",
       "    </tr>\n",
       "    <tr>\n",
       "      <th>2021-05-31</th>\n",
       "      <td>0.000000</td>\n",
       "      <td>0.0</td>\n",
       "      <td>0.000000</td>\n",
       "      <td>0.0</td>\n",
       "      <td>0.0</td>\n",
       "      <td>0.000000</td>\n",
       "      <td>0.000345</td>\n",
       "      <td>0.0</td>\n",
       "      <td>-0.000338</td>\n",
       "      <td>0.000000</td>\n",
       "      <td>...</td>\n",
       "      <td>0.0</td>\n",
       "      <td>-0.0</td>\n",
       "      <td>0.008474</td>\n",
       "      <td>0.008864</td>\n",
       "      <td>0.0</td>\n",
       "      <td>0.0</td>\n",
       "      <td>0.0</td>\n",
       "      <td>0.0</td>\n",
       "      <td>0.0</td>\n",
       "      <td>0.000000</td>\n",
       "    </tr>\n",
       "    <tr>\n",
       "      <th>2021-06-30</th>\n",
       "      <td>0.000000</td>\n",
       "      <td>-0.0</td>\n",
       "      <td>-0.000000</td>\n",
       "      <td>-0.0</td>\n",
       "      <td>0.0</td>\n",
       "      <td>0.008743</td>\n",
       "      <td>-0.001112</td>\n",
       "      <td>0.0</td>\n",
       "      <td>-0.003192</td>\n",
       "      <td>0.000000</td>\n",
       "      <td>...</td>\n",
       "      <td>0.0</td>\n",
       "      <td>0.0</td>\n",
       "      <td>0.010039</td>\n",
       "      <td>0.002905</td>\n",
       "      <td>0.0</td>\n",
       "      <td>0.0</td>\n",
       "      <td>0.0</td>\n",
       "      <td>-0.0</td>\n",
       "      <td>0.0</td>\n",
       "      <td>0.000000</td>\n",
       "    </tr>\n",
       "  </tbody>\n",
       "</table>\n",
       "<p>5 rows × 48 columns</p>\n",
       "</div>"
      ],
      "text/plain": [
       "            ADANIPORTS.NS  ASIANPAINT.NS  AXISBANK.NS  BAJAJ-AUTO.NS  \\\n",
       "Date                                                                   \n",
       "2021-02-28       0.000000           -0.0     0.000000           -0.0   \n",
       "2021-03-31       0.003921            0.0     0.003773           -0.0   \n",
       "2021-04-30       0.000000           -0.0     0.000000            0.0   \n",
       "2021-05-31       0.000000            0.0     0.000000            0.0   \n",
       "2021-06-30       0.000000           -0.0    -0.000000           -0.0   \n",
       "\n",
       "            BAJAJFINSV.NS  BAJFINANCE.NS  BHARTIARTL.NS  BPCL.NS  \\\n",
       "Date                                                               \n",
       "2021-02-28            0.0       0.000000       0.000000      0.0   \n",
       "2021-03-31            0.0      -0.000000      -0.000000     -0.0   \n",
       "2021-04-30            0.0       0.000000      -0.003760     -0.0   \n",
       "2021-05-31            0.0       0.000000       0.000345      0.0   \n",
       "2021-06-30            0.0       0.008743      -0.001112      0.0   \n",
       "\n",
       "            BRITANNIA.NS  CIPLA.NS  ...  SUNPHARMA.NS  TATACONSUM.NS  \\\n",
       "Date                                ...                                \n",
       "2021-02-28     -0.000000 -0.004704  ...           0.0            0.0   \n",
       "2021-03-31      0.000000  0.003564  ...           0.0            0.0   \n",
       "2021-04-30     -0.000000  0.000000  ...           0.0            0.0   \n",
       "2021-05-31     -0.000338  0.000000  ...           0.0           -0.0   \n",
       "2021-06-30     -0.003192  0.000000  ...           0.0            0.0   \n",
       "\n",
       "            TATAMOTORS.NS  TATASTEEL.NS  TCS.NS  TECHM.NS  TITAN.NS  \\\n",
       "Date                                                                  \n",
       "2021-02-28       0.000000      0.000000    -0.0      -0.0      -0.0   \n",
       "2021-03-31      -0.006549      0.013522     0.0       0.0       0.0   \n",
       "2021-04-30      -0.002634      0.027363    -0.0      -0.0      -0.0   \n",
       "2021-05-31       0.008474      0.008864     0.0       0.0       0.0   \n",
       "2021-06-30       0.010039      0.002905     0.0       0.0       0.0   \n",
       "\n",
       "            ULTRACEMCO.NS  UPL.NS  WIPRO.NS  \n",
       "Date                                         \n",
       "2021-02-28            0.0     0.0 -0.001819  \n",
       "2021-03-31            0.0     0.0  0.000000  \n",
       "2021-04-30           -0.0    -0.0  0.000000  \n",
       "2021-05-31            0.0     0.0  0.000000  \n",
       "2021-06-30           -0.0     0.0  0.000000  \n",
       "\n",
       "[5 rows x 48 columns]"
      ]
     },
     "execution_count": 125,
     "metadata": {},
     "output_type": "execute_result"
    }
   ],
   "source": [
    "portfolio_return.tail()"
   ]
  },
  {
   "cell_type": "code",
   "execution_count": 137,
   "metadata": {},
   "outputs": [],
   "source": [
    "pr_series = portfolio_return.sum(axis=1).to_frame()"
   ]
  },
  {
   "cell_type": "code",
   "execution_count": 140,
   "metadata": {},
   "outputs": [],
   "source": [
    "pr_series.columns = ['Monthly Return']"
   ]
  },
  {
   "cell_type": "code",
   "execution_count": 145,
   "metadata": {},
   "outputs": [
    {
     "data": {
      "text/plain": [
       "array([[<matplotlib.axes._subplots.AxesSubplot object at 0x7fe4983efc10>]],\n",
       "      dtype=object)"
      ]
     },
     "execution_count": 145,
     "metadata": {},
     "output_type": "execute_result"
    },
    {
     "data": {
      "image/png": "[encoded data removed]",
      "text/plain": [
       "<Figure size 432x288 with 1 Axes>"
      ]
     },
     "metadata": {
      "needs_background": "light"
     },
     "output_type": "display_data"
    }
   ],
   "source": [
    "pr_series.hist()"
   ]
  },
  {
   "cell_type": "code",
   "execution_count": 150,
   "metadata": {},
   "outputs": [
    {
     "data": {
      "text/plain": [
       "100"
      ]
     },
     "execution_count": 150,
     "metadata": {},
     "output_type": "execute_result"
    }
   ],
   "source": [
    "a = [100]\n",
    "a[0]"
   ]
  },
  {
   "cell_type": "code",
   "execution_count": 152,
   "metadata": {},
   "outputs": [
    {
     "data": {
      "text/plain": [
       "0.035327018952133506"
      ]
     },
     "execution_count": 152,
     "metadata": {},
     "output_type": "execute_result"
    }
   ],
   "source": [
    "pr_series['Monthly Return'][0]"
   ]
  },
  {
   "cell_type": "code",
   "execution_count": 153,
   "metadata": {},
   "outputs": [],
   "source": [
    "for i in range(len(pr_series)):\n",
    "    x = a[i]*(1+pr_series['Monthly Return'][i])\n",
    "    a.append(x)"
   ]
  },
  {
   "cell_type": "code",
   "execution_count": 159,
   "metadata": {},
   "outputs": [],
   "source": [
    "pf_value = pd.DataFrame(a)"
   ]
  },
  {
   "cell_type": "code",
   "execution_count": 162,
   "metadata": {},
   "outputs": [
    {
     "data": {
      "text/plain": [
       "<matplotlib.axes._subplots.AxesSubplot at 0x7fe498195f50>"
      ]
     },
     "execution_count": 162,
     "metadata": {},
     "output_type": "execute_result"
    },
    {
     "data": {
      "image/png": "[encoded data removed]",
      "text/plain": [
       "<Figure size 432x288 with 1 Axes>"
      ]
     },
     "metadata": {
      "needs_background": "light"
     },
     "output_type": "display_data"
    }
   ],
   "source": [
    "pf_value.plot()"
   ]
  },
  {
   "cell_type": "code",
   "execution_count": null,
   "metadata": {},
   "outputs": [],
   "source": []
  }
 ],
 "metadata": {
  "kernelspec": {
   "display_name": "Python 3",
   "language": "python",
   "name": "python3"
  },
  "language_info": {
   "codemirror_mode": {
    "name": "ipython",
    "version": 3
   },
   "file_extension": ".py",
   "mimetype": "text/x-python",
   "name": "python",
   "nbconvert_exporter": "python",
   "pygments_lexer": "ipython3",
   "version": "3.7.6"
  }
 },
 "nbformat": 4,
 "nbformat_minor": 4
}
