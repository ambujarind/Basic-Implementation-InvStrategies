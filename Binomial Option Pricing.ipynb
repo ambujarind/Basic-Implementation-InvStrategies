{
 "cells": [
  {
   "cell_type": "code",
   "execution_count": 1,
   "metadata": {},
   "outputs": [],
   "source": [
    "import scipy.optimize as optimize\n",
    "import numpy as np\n",
    "import math"
   ]
  },
  {
   "cell_type": "code",
   "execution_count": null,
   "metadata": {},
   "outputs": [],
   "source": []
  },
  {
   "cell_type": "markdown",
   "metadata": {},
   "source": [
    "Numerical Procedures"
   ]
  },
  {
   "cell_type": "code",
   "execution_count": 2,
   "metadata": {},
   "outputs": [],
   "source": [
    "class StockOption(object):\n",
    "    def __init__(self, S0, K, rf, T, N, params):\n",
    "        self.S0 = S0\n",
    "        self.K = K\n",
    "        self.T = T\n",
    "        self.rf = rf\n",
    "        self.N = max(1,N)\n",
    "        self.STs = None\n",
    "        \n",
    "        self.pu = params.get(\"pu\", 0) # probability of stock price moving up\n",
    "        self.pd = params.get(\"pd\", 0) # probability of stock price moving down\n",
    "        self.div = params.get(\"div\", 0) # dividend yield\n",
    "        self.sigma = params.get(\"sigma\", 0) # volatility\n",
    "        self.is_call = params.get(\"is_call\", True) # check call or put\n",
    "        self.is_european = params.get(\"is_european\", True) # check european vs american\n",
    "        \n",
    "        self.dt = T / float(N) # time step in years\n",
    "        self.df = math.exp((rf-self.div)*self.dt) # discount factor        "
   ]
  },
  {
   "cell_type": "code",
   "execution_count": 3,
   "metadata": {},
   "outputs": [],
   "source": [
    "class BinomialEuropeanOption(StockOption):\n",
    "    \n",
    "    def _setup_parameters_(self):\n",
    "        self.M = self.N + 1\n",
    "        self.u = 1 + self.pu\n",
    "        self.d = 1 - self.pd\n",
    "        self.qu = (math.exp((self.rf - self.div)*self.dt) - self.d) / (self.u - self.d)\n",
    "        self.qd = 1 - self.qu\n",
    "    \n",
    "    def _initialize_stock_price_tree_(self):\n",
    "        self.STs = np.zeros(self.M)\n",
    "        \n",
    "        for i in range(self.M):\n",
    "            self.STs[i] = self.S0*(self.u**(self.N - i))*(self.d**i)\n",
    "        \n",
    "        a = self.STs\n",
    "        return a\n",
    "    \n",
    "    def _initialize_payoffs_tree_(self):\n",
    "        payoffs = np.maximum(0, (self.STs - self.K) if self.is_call else (self.K - self.STs))\n",
    "        return payoffs\n",
    "    \n",
    "    def _traverse_tree_(self, payoffs):\n",
    "        for i in range(self.N):\n",
    "            payoffs = (payoffs[:-1]*self.qu + payoffs[1:]*self.qd) * self.df\n",
    "        return payoffs\n",
    "    \n",
    "    def _begin_tree_traversal_(self):\n",
    "        payoffs = self._initialize_payoffs_tree_()\n",
    "        return self._traverse_tree_(payoffs)\n",
    "    \n",
    "    def price(self):\n",
    "        self._setup_parameters_()\n",
    "        self._initialize_stock_price_tree_()\n",
    "        payoffs = self._begin_tree_traversal_()\n",
    "        \n",
    "        return payoffs[0]"
   ]
  },
  {
   "cell_type": "code",
   "execution_count": 4,
   "metadata": {},
   "outputs": [
    {
     "name": "stdout",
     "output_type": "stream",
     "text": [
      "27.195380234429283\n"
     ]
    }
   ],
   "source": [
    "eu_option = BinomialEuropeanOption(100, 100, 0.06, 1, 12,\n",
    "        {\"pu\": 0.2, \"pd\": 0.2, \"is_call\": False})\n",
    "print(eu_option.price())"
   ]
  },
  {
   "cell_type": "code",
   "execution_count": 5,
   "metadata": {},
   "outputs": [],
   "source": [
    "class BinomialTreeOption(StockOption):\n",
    "    \n",
    "    def _setup_parameters_(self):\n",
    "        self.M = self.N + 1\n",
    "        self.u = 1 + self.pu\n",
    "        self.d = 1 - self.pd\n",
    "        self.qu = (math.exp((self.rf - self.div)*self.dt) - self.d) / (self.u - self.d)\n",
    "        self.qd = 1 - self.qu\n",
    "    \n",
    "    def _initialize_stock_price_tree_(self):\n",
    "        self.STs = [np.array([self.S0])]\n",
    "        \n",
    "        for i in range(self.N):\n",
    "            prev_branches = self.STs[-1]\n",
    "            st  = np.concatenate((prev_branches*self.u, [prev_branches[-1]*self.d]))\n",
    "            self.STs.append(st)\n",
    "            \n",
    "        return self.STs\n",
    "    \n",
    "    def _initialize_payoffs_tree_(self):\n",
    "        payoffs = np.maximum(0, (self.STs[self.N] - self.K) if self.is_call else (self.K - self.STs[self.N]))\n",
    "        return payoffs\n",
    "    \n",
    "    def _check_early_exercise_(self, payoffs, node):\n",
    "        early_ex_payoff = (self.STs[node] - self.K) if self.is_call else (self.K - self.STs[node])\n",
    "    \n",
    "    def _traverse_tree_(self, payoffs):\n",
    "        for i in reversed(range(self.N)):\n",
    "            payoffs = (payoffs[:-1]*self.qu + payoffs[1:]*self.qd) * self.df\n",
    "        \n",
    "        if not self.is_european:\n",
    "            payoffs = self._check_early_exercise_(payoffs, i)\n",
    "        \n",
    "        return payoffs\n",
    "    \n",
    "    def _begin_tree_traversal_(self):\n",
    "        payoffs = self._initialize_payoffs_tree_()\n",
    "        return self._traverse_tree_(payoffs)\n",
    "    \n",
    "    def price(self):\n",
    "        self._setup_parameters_()\n",
    "        self._initialize_stock_price_tree_()\n",
    "        payoffs = self._begin_tree_traversal_()\n",
    "        \n",
    "        return payoffs[0]"
   ]
  },
  {
   "cell_type": "code",
   "execution_count": 6,
   "metadata": {},
   "outputs": [
    {
     "name": "stdout",
     "output_type": "stream",
     "text": [
      "5.073068207271768\n"
     ]
    }
   ],
   "source": [
    "am_option = BinomialTreeOption(\n",
    "        50, 50, 0.05, 0.5, 2,\n",
    "        {\"pu\": 0.2, \"pd\": 0.2, \"is_call\": False, \"is_eu\": False})\n",
    "\n",
    "print(am_option.price())"
   ]
  },
  {
   "cell_type": "code",
   "execution_count": 7,
   "metadata": {},
   "outputs": [],
   "source": [
    "class BinomialCRROption(BinomialTreeOption):\n",
    "    def _setup_parameters_(self):\n",
    "        self.u = math.exp(self.sigma * math.sqrt(self.dt))\n",
    "        self.d = 1. / self.u\n",
    "        self.qu = (math.exp((self.rf - self.div)*self.dt) - self.d) / (self.u - self.d)\n",
    "        self.qd = 1 - self.qu"
   ]
  },
  {
   "cell_type": "code",
   "execution_count": 8,
   "metadata": {},
   "outputs": [
    {
     "name": "stdout",
     "output_type": "stream",
     "text": [
      "American put: 3.2643516498940786\n"
     ]
    }
   ],
   "source": [
    "am_option = BinomialCRROption(\n",
    "        50, 50, 0.05, 0.5, 2,\n",
    "        {\"sigma\": 0.3, \"is_call\": False, \"is_eu\": False})\n",
    "print(\"American put: %s\" % am_option.price())"
   ]
  },
  {
   "cell_type": "code",
   "execution_count": 9,
   "metadata": {},
   "outputs": [
    {
     "data": {
      "text/plain": [
       "1"
      ]
     },
     "execution_count": 9,
     "metadata": {},
     "output_type": "execute_result"
    }
   ],
   "source": [
    "len(am_option._begin_tree_traversal_())"
   ]
  },
  {
   "cell_type": "code",
   "execution_count": 10,
   "metadata": {},
   "outputs": [],
   "source": [
    "class BinomialLROption(BinomialTreeOption):\n",
    "\n",
    "    def _setup_parameters_(self):\n",
    "        odd_N = self.N if (self.N%2 == 1) else (self.N+1)\n",
    "        d1 = (math.log(self.S0/self.K) +  \n",
    "              ((self.rf-self.div) +\n",
    "               (self.sigma**2)/2.) *\n",
    "              self.T) / (self.sigma * math.sqrt(self.T))\n",
    "        d2 = (math.log(self.S0/self.K) +\n",
    "              ((self.rf-self.div) -\n",
    "               (self.sigma**2)/2.) *\n",
    "              self.T) / (self.sigma * math.sqrt(self.T))\n",
    "        pp_2_inversion = \\\n",
    "            lambda z, n: \\\n",
    "            .5 + math.copysign(1, z) * \\\n",
    "            math.sqrt(.25 - .25 * math.exp(\n",
    "                -((z/(n+1./3.+.1/(n+1)))**2.)*(n+1./6.)))\n",
    "        pbar = pp_2_inversion(d1, odd_N)\n",
    "\n",
    "        self.p = pp_2_inversion(d2, odd_N)\n",
    "        self.u = 1/self.df * pbar/self.p\n",
    "        self.d = (1/self.df - self.p*self.u)/(1-self.p)\n",
    "        self.qu = self.p\n",
    "        self.qd = 1-self.p"
   ]
  },
  {
   "cell_type": "code",
   "execution_count": 11,
   "metadata": {},
   "outputs": [
    {
     "name": "stdout",
     "output_type": "stream",
     "text": [
      "American put: 4.8058504579496475\n"
     ]
    }
   ],
   "source": [
    "am_option = BinomialLROption(\n",
    "        50, 50, 0.05, 0.5, 3,\n",
    "        {\"sigma\": 0.3, \"is_call\": False, \"is_eu\": False})\n",
    "print(\"American put: %s\" % am_option.price())"
   ]
  },
  {
   "cell_type": "code",
   "execution_count": 12,
   "metadata": {},
   "outputs": [
    {
     "data": {
      "text/plain": [
       "array([4.80585046])"
      ]
     },
     "execution_count": 12,
     "metadata": {},
     "output_type": "execute_result"
    }
   ],
   "source": [
    "am_option._begin_tree_traversal_()"
   ]
  },
  {
   "cell_type": "code",
   "execution_count": 13,
   "metadata": {},
   "outputs": [],
   "source": [
    "class BinomialLRWithGreeks(BinomialLROption):\n",
    "\n",
    "    def _new_stock_price_tree_(self):\n",
    "        \n",
    "        self.STs = [np.array([self.S0*self.u/self.d,\n",
    "                              self.S0,\n",
    "                              self.S0*self.d/self.u])]\n",
    "\n",
    "        for i in range(self.N):\n",
    "            prev_branches = self.STs[-1]\n",
    "            st = np.concatenate((prev_branches * self.u,\n",
    "                                 [prev_branches[-1] * self.d]))\n",
    "            self.STs.append(st)\n",
    "\n",
    "    def price(self):\n",
    "        self._setup_parameters_()\n",
    "        self._new_stock_price_tree_()\n",
    "        payoffs = self._begin_tree_traversal_()\n",
    "\n",
    "        \"\"\" Option value is now in the middle node at t=0\"\"\"\n",
    "        option_value = payoffs[1]\n",
    "        \n",
    "        payoff_up = payoffs[0]\n",
    "        payoff_down = payoffs[-1]\n",
    "        S_up = self.STs[0][0]\n",
    "        S_down = self.STs[0][-1]\n",
    "        dS_up = S_up - self.S0\n",
    "        dS_down = self.S0 - S_down\n",
    "\n",
    "        \"\"\" Get delta value \"\"\"\n",
    "        dS = S_up - S_down\n",
    "        dV = payoff_up - payoff_down\n",
    "        delta = dV/dS\n",
    "\n",
    "        \"\"\" Get gamma value \"\"\"\n",
    "        gamma = ((payoff_up-option_value)/dS_up -\n",
    "                 (option_value-payoff_down)/dS_down) / \\\n",
    "                ((self.S0+S_up)/2. - (self.S0+S_down)/2.)\n",
    "\n",
    "        return option_value, delta, gamma"
   ]
  },
  {
   "cell_type": "code",
   "execution_count": 14,
   "metadata": {},
   "outputs": [
    {
     "name": "stdout",
     "output_type": "stream",
     "text": [
      "European call values\n",
      "Price: 3.6605532241706844\n",
      "Delta: 0.49548913952865475\n",
      "Gamma: 0.0376617814012847\n"
     ]
    }
   ],
   "source": [
    "eu_call = BinomialLRWithGreeks(50, 50, 0.05, 0.5, 300, {\"sigma\": 0.3, \"is_call\": True})\n",
    "results = eu_call.price()\n",
    "print(\"European call values\")\n",
    "print(\"Price: %s\\nDelta: %s\\nGamma: %s\" % results)"
   ]
  },
  {
   "cell_type": "code",
   "execution_count": 15,
   "metadata": {},
   "outputs": [
    {
     "name": "stdout",
     "output_type": "stream",
     "text": [
      "European put values\n",
      "Price: 4.926309250393408\n",
      "Delta: -0.504510860471344\n",
      "Gamma: 0.037661781401289056\n"
     ]
    }
   ],
   "source": [
    "eu_put = BinomialLRWithGreeks(\n",
    "        50, 50, 0.05, 0.5, 300, {\"sigma\":0.3, \"is_call\": False})\n",
    "results = eu_put.price()\n",
    "print(\"European put values\")\n",
    "print(\"Price: %s\\nDelta: %s\\nGamma: %s\" % results)"
   ]
  },
  {
   "cell_type": "code",
   "execution_count": null,
   "metadata": {},
   "outputs": [],
   "source": []
  }
 ],
 "metadata": {
  "kernelspec": {
   "display_name": "Python 3",
   "language": "python",
   "name": "python3"
  },
  "language_info": {
   "codemirror_mode": {
    "name": "ipython",
    "version": 3
   },
   "file_extension": ".py",
   "mimetype": "text/x-python",
   "name": "python",
   "nbconvert_exporter": "python",
   "pygments_lexer": "ipython3",
   "version": "3.7.6"
  }
 },
 "nbformat": 4,
 "nbformat_minor": 4
}
