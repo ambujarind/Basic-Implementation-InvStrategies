{
 "cells": [
  {
   "cell_type": "code",
   "execution_count": 1,
   "metadata": {},
   "outputs": [],
   "source": [
    "def zero_coupon_bond(par,y,t):\n",
    "    return par/(1+y)**t"
   ]
  },
  {
   "cell_type": "code",
   "execution_count": 2,
   "metadata": {},
   "outputs": [
    {
     "data": {
      "text/plain": [
       "78.35261664684589"
      ]
     },
     "execution_count": 2,
     "metadata": {},
     "output_type": "execute_result"
    }
   ],
   "source": [
    "zero_coupon_bond(100,0.05,5)"
   ]
  },
  {
   "cell_type": "code",
   "execution_count": 3,
   "metadata": {},
   "outputs": [],
   "source": [
    "import math"
   ]
  },
  {
   "cell_type": "code",
   "execution_count": 4,
   "metadata": {},
   "outputs": [
    {
     "data": {
      "text/plain": [
       "95.12294245007139"
      ]
     },
     "execution_count": 4,
     "metadata": {},
     "output_type": "execute_result"
    }
   ],
   "source": [
    "100/math.exp(0.05*1)"
   ]
  },
  {
   "cell_type": "code",
   "execution_count": 5,
   "metadata": {},
   "outputs": [],
   "source": [
    "class BootstrapYieldCurve():\n",
    "    def __init__(self):\n",
    "        self.zero_rates = dict()\n",
    "        self.instruments = dict()\n",
    "    \n",
    "    def add_instrument(self, par, T, coupon, price, compounding_freq = 2):\n",
    "        self.instruments[T] = (par, coupon, price, compounding_freq)\n",
    "    \n",
    "    def get_zero_rates(self):\n",
    "        self._bootstrap_zero_coupons_()\n",
    "        self._get_bond_spot_rates_()\n",
    "        return [self.zero_rates[T] for T in self.get_maturities()]\n",
    "    \n",
    "    def get_maturities(self):\n",
    "        return sorted(self.instruments.keys())\n",
    "    \n",
    "    def _bootstrap_zero_coupons_(self):\n",
    "        for T in self.instruments.keys():\n",
    "            par, coupon, price, freq = self.instruments[T]\n",
    "            if coupon == 0:\n",
    "                self.zero_rates[T] = self._zero_coupon_spot_rate_(par, price, T)\n",
    "    \n",
    "    def _get_bond_spot_rates_(self):\n",
    "        for T in self.get_maturities():\n",
    "            (par, coupon, price, freq) = self.instruments[T]\n",
    "            \n",
    "            if coupon !=0:\n",
    "                self.zero_rates[T]= self._calculate_bond_spot_rate_(T, instrument)\n",
    "    \n",
    "    def _calculate_bond_spot_rate_(self, T, instrument):\n",
    "        try:\n",
    "            (par, coupon, price, freq) = self.instruments[T]\n",
    "            periods = T*freq\n",
    "            value = price\n",
    "            per_coupon = coupon / freq\n",
    "            \n",
    "            for i in range(int(periods)-1):\n",
    "                t = (i+1)/float(freq)\n",
    "                spot_rate = self.zero_rates[t]\n",
    "                discounted_coupon = per_coupon*math.exp(-spot_rate*t)\n",
    "                value -= discounted_coupon\n",
    "            \n",
    "            last_period = int(periods)/float(freq)\n",
    "            spot_rate = - math.log(value / (par+per_coupon))/last_period\n",
    "            return spot_rate\n",
    "        \n",
    "        except:\n",
    "            print(\"Error: spot rate not found for T = %s\" %t)\n",
    "    \n",
    "    def _zero_coupon_spot_rate_(self, par, price, T):\n",
    "        spot_rate = math.log(par/price)/T\n",
    "        return spot_rate"
   ]
  },
  {
   "cell_type": "code",
   "execution_count": 6,
   "metadata": {},
   "outputs": [],
   "source": [
    "yield_curve = BootstrapYieldCurve()"
   ]
  },
  {
   "cell_type": "code",
   "execution_count": 7,
   "metadata": {},
   "outputs": [],
   "source": [
    "yield_curve.add_instrument(100, 1, 0, 96.18)"
   ]
  },
  {
   "cell_type": "code",
   "execution_count": 8,
   "metadata": {},
   "outputs": [],
   "source": [
    "yield_curve.add_instrument(100, 2, 0, 91.7)"
   ]
  },
  {
   "cell_type": "code",
   "execution_count": 9,
   "metadata": {},
   "outputs": [],
   "source": [
    "yield_curve.add_instrument(100, 3, 0, 87.09)"
   ]
  },
  {
   "cell_type": "code",
   "execution_count": 10,
   "metadata": {},
   "outputs": [],
   "source": [
    "yield_curve.add_instrument(100, 4, 0, 80.57)"
   ]
  },
  {
   "cell_type": "code",
   "execution_count": 11,
   "metadata": {},
   "outputs": [],
   "source": [
    "yield_curve.add_instrument(100, 5, 0, 75.96)"
   ]
  },
  {
   "cell_type": "code",
   "execution_count": 12,
   "metadata": {},
   "outputs": [],
   "source": [
    "yield_curve.add_instrument(100, 6, 0, 70.09)"
   ]
  },
  {
   "cell_type": "code",
   "execution_count": 13,
   "metadata": {},
   "outputs": [],
   "source": [
    "yield_curve.add_instrument(100, 7, 0, 65.43)"
   ]
  },
  {
   "cell_type": "code",
   "execution_count": 14,
   "metadata": {},
   "outputs": [],
   "source": [
    "yield_curve.add_instrument(100, 8, 0, 61.04)"
   ]
  },
  {
   "cell_type": "code",
   "execution_count": 15,
   "metadata": {},
   "outputs": [],
   "source": [
    "yield_curve.add_instrument(100, 9, 0, 58.11)"
   ]
  },
  {
   "cell_type": "code",
   "execution_count": 16,
   "metadata": {},
   "outputs": [],
   "source": [
    "yield_curve.add_instrument(100, 10, 0, 55.69)"
   ]
  },
  {
   "cell_type": "code",
   "execution_count": 17,
   "metadata": {},
   "outputs": [],
   "source": [
    "y = yield_curve.get_zero_rates()"
   ]
  },
  {
   "cell_type": "code",
   "execution_count": 18,
   "metadata": {},
   "outputs": [],
   "source": [
    "x = yield_curve.get_maturities()"
   ]
  },
  {
   "cell_type": "code",
   "execution_count": 19,
   "metadata": {},
   "outputs": [
    {
     "data": {
      "text/plain": [
       "[<matplotlib.lines.Line2D at 0x7fea9ad68cd0>]"
      ]
     },
     "execution_count": 19,
     "metadata": {},
     "output_type": "execute_result"
    },
    {
     "data": {
      "image/png": "[encoded data removed]",
      "text/plain": [
       "<Figure size 432x288 with 1 Axes>"
      ]
     },
     "metadata": {
      "needs_background": "light"
     },
     "output_type": "display_data"
    }
   ],
   "source": [
    "import matplotlib.pyplot as plt\n",
    "plt.plot(x,y)"
   ]
  },
  {
   "cell_type": "code",
   "execution_count": null,
   "metadata": {},
   "outputs": [],
   "source": []
  }
 ],
 "metadata": {
  "kernelspec": {
   "display_name": "Python 3",
   "language": "python",
   "name": "python3"
  },
  "language_info": {
   "codemirror_mode": {
    "name": "ipython",
    "version": 3
   },
   "file_extension": ".py",
   "mimetype": "text/x-python",
   "name": "python",
   "nbconvert_exporter": "python",
   "pygments_lexer": "ipython3",
   "version": "3.7.6"
  }
 },
 "nbformat": 4,
 "nbformat_minor": 4
}
